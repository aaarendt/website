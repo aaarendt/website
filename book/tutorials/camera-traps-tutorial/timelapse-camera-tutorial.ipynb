{
 "cells": [
  {
   "cell_type": "markdown",
   "id": "complex-alpha",
   "metadata": {},
   "source": [
    "# Time-lapse Cameras and Snow Applications"
   ]
  },
  {
   "cell_type": "markdown",
   "id": "naked-designer",
   "metadata": {},
   "source": [
    "- Catherine Breen, cbreen@uw.edu\n",
    "- Cassie Lumbrazo, lumbraca@uw.edu"
   ]
  },
  {
   "cell_type": "markdown",
   "id": "suitable-avatar",
   "metadata": {},
   "source": [
    "## Learning Objectives\n",
    "<b> By the end of this tutorial, you will be able to: <b>\n",
    "- Understand how a time-lapse camera works, and how images can be used to measure snow properties. \n",
    "- Learn about the upcoming SnowEx time-lapse datasets to be available in 2021. \n",
    "- Access snow depth measurements extracted from 2020 SnowEx time-lapse imagery using the SnowEx SQL database."
   ]
  },
  {
   "cell_type": "markdown",
   "id": "refined-ceiling",
   "metadata": {},
   "source": [
    "## What is a camera trap?\n",
    "\n",
    "- A camera trap (sometimes referred to as a remote camera or hunting camera) is similar to a normal camera except they:\n",
    "    - *1) can take pictures at consistent intervals at settings preset by the user.*  \n",
    "    - *2) are designed to withstand harsh conditions and to be left up for long periods of time.* \n",
    "- Their potential for snow hydrology is exciting. Consistent daily camera trap photos can be analyzed continuously to form a *time-lapse* of snow conditions at one location. "
   ]
  },
  {
   "cell_type": "markdown",
   "id": "subtle-bundle",
   "metadata": {},
   "source": [
    "## Camera Traps and SnowEx\n",
    "- Camera traps were installed in both the 2017 and 2020 SnowEx campaigns. \n",
    "- During the 2020 SnowEx field campaign, 30 cameras were installed in Grand Mesa, CO between September and May. \n",
    "- Cameras were installed across a vegetation gradient on a scale of 1 (least vegetation and ) to 9 (most vegetation). Within each vegetation class, there were three sub-classes of snow depths: shallow, intermediate, and deep snow, that were derived from 2017 SnowEx lidar measurements. \n",
    "- 2017 camera trap time-lapse imagery has been submitted to the NSIDC (Raleigh & Lumbrazo 2021). 2020 time-lapse is in progress for submission to the NSIDC with estimation of submission in summer 2021. "
   ]
  },
  {
   "cell_type": "markdown",
   "id": "educated-guide",
   "metadata": {},
   "source": [
    "### Pulling and visualizing camera trap data\n",
    "\n",
    "We will now pull time-lapse imagery for camera E9B from the 2020 SnowEx field campaign. We will pull images and display a sample from various times of the winter season. \n",
    "\n",
    "<b> Note: These are sample images stored on a temporary folder on SnowEx's Amazon Web Services (AWS) servor. Final images will be available on NSIDC. \n",
    "    "
   ]
  },
  {
   "cell_type": "code",
   "execution_count": null,
   "id": "charitable-account",
   "metadata": {},
   "outputs": [],
   "source": [
    "!aws s3 sync --no-progress s3://snowex-data/tutorial-data/camera-trap/ /tmp/camera-trap ## pull in temporary data from AWS servor"
   ]
  },
  {
   "cell_type": "code",
   "execution_count": null,
   "id": "marked-wesley",
   "metadata": {},
   "outputs": [],
   "source": [
    "from IPython.display import Image \n",
    "pil_img = Image(filename='/tmp/camera-trap/WSCT0101.JPG')\n",
    "display(pil_img)"
   ]
  },
  {
   "cell_type": "code",
   "execution_count": null,
   "id": "accessory-graham",
   "metadata": {},
   "outputs": [],
   "source": [
    "pil_img = Image(filename='/tmp/camera-trap/WSCT0378.JPG')\n",
    "display(pil_img)"
   ]
  },
  {
   "cell_type": "code",
   "execution_count": null,
   "id": "crazy-package",
   "metadata": {},
   "outputs": [],
   "source": [
    "pil_img = Image(filename='/tmp/camera-trap/WSCT0742.JPG')\n",
    "display(pil_img)"
   ]
  },
  {
   "cell_type": "markdown",
   "id": "built-crime",
   "metadata": {},
   "source": [
    "- What do you notice? Is this an open or closed canopy site? \n",
    "- Can you see the snow rising and falling on the pole? \n",
    "- What are some snow properties that you might be able to measure using these devices? "
   ]
  },
  {
   "cell_type": "markdown",
   "id": "resident-capital",
   "metadata": {},
   "source": [
    "## Applications\n",
    "\n",
    "### Snow Depth\n",
    "\n",
    "Installing snow poles in front of camera trap images can provide low-cost, long-term snow depth timeseries. Snow depths from the 2020 SnowEx timelapse imagery have been manually processed with estimation of submission to the NSIDC database in summer 2021 (*in progress* Breen et al. 2021). \n",
    "\n",
    "The snow depth is the difference between the number of pixels in a snow-free image and an image with snow, with a conversion from pixels to centimeters (see figure below)."
   ]
  },
  {
   "cell_type": "code",
   "execution_count": 6,
   "id": "increasing-standing",
   "metadata": {},
   "outputs": [
    {
     "ename": "NameError",
     "evalue": "name 'Image' is not defined",
     "output_type": "error",
     "traceback": [
      "\u001b[0;31m---------------------------------------------------------------------------\u001b[0m",
      "\u001b[0;31mNameError\u001b[0m                                 Traceback (most recent call last)",
      "\u001b[0;32m<ipython-input-6-f477cfc8318f>\u001b[0m in \u001b[0;36m<module>\u001b[0;34m\u001b[0m\n\u001b[0;32m----> 1\u001b[0;31m \u001b[0mpil_img\u001b[0m \u001b[0;34m=\u001b[0m \u001b[0mImage\u001b[0m\u001b[0;34m(\u001b[0m\u001b[0mfilename\u001b[0m\u001b[0;34m=\u001b[0m\u001b[0;34m'/tmp/camera-trap/Picture1.png'\u001b[0m\u001b[0;34m)\u001b[0m\u001b[0;34m\u001b[0m\u001b[0;34m\u001b[0m\u001b[0m\n\u001b[0m\u001b[1;32m      2\u001b[0m \u001b[0mdisplay\u001b[0m\u001b[0;34m(\u001b[0m\u001b[0mpil_img\u001b[0m\u001b[0;34m)\u001b[0m\u001b[0;34m\u001b[0m\u001b[0;34m\u001b[0m\u001b[0m\n",
      "\u001b[0;31mNameError\u001b[0m: name 'Image' is not defined"
     ]
    }
   ],
   "source": [
    "pil_img = Image(filename='/tmp/camera-trap/Picture1.png')\n",
    "display(pil_img)"
   ]
  },
  {
   "cell_type": "markdown",
   "id": "collected-certification",
   "metadata": {},
   "source": [
    "Below we will explore the dataset."
   ]
  },
  {
   "cell_type": "markdown",
   "id": "coupled-portsmouth",
   "metadata": {},
   "source": [
    "#### Step 1: Grab all the pit and camera locations\n",
    "\n",
    "*code credit: Micah Johnson*"
   ]
  },
  {
   "cell_type": "markdown",
   "id": "powered-consequence",
   "metadata": {},
   "source": [
    "The code block uses geopandas, matplotlib and pandas libraries to look at tabular data on the SnowEx SQL database. We will compare the camera trap locations to the 2020 snow pit locations on the Grand Mesa."
   ]
  },
  {
   "cell_type": "code",
   "execution_count": 3,
   "id": "regional-repository",
   "metadata": {},
   "outputs": [
    {
     "name": "stdout",
     "output_type": "stream",
     "text": [
      "    site_name        date                     time_created time_updated  \\\n",
      "0  Grand Mesa  2019-10-30 2021-06-26 11:25:38.646015+00:00         None   \n",
      "1  Grand Mesa  2019-09-29 2021-06-26 11:25:38.509049+00:00         None   \n",
      "2  Grand Mesa  2019-09-29 2021-06-26 11:25:38.516037+00:00         None   \n",
      "3  Grand Mesa  2019-09-30 2021-06-26 11:25:38.518233+00:00         None   \n",
      "4  Grand Mesa  2019-09-30 2021-06-26 11:25:38.520249+00:00         None   \n",
      "\n",
      "        id site_id   doi date_accessed   instrument   type  ...   longitude  \\\n",
      "0  4145878    None  None    2021-06-26  camera-trap  depth  ... -108.184794   \n",
      "1  4145815    None  None    2021-06-26  camera-trap  depth  ... -108.184794   \n",
      "2  4145816    None  None    2021-06-26  camera-trap  depth  ... -108.184794   \n",
      "3  4145817    None  None    2021-06-26  camera-trap  depth  ... -108.184794   \n",
      "4  4145818    None  None    2021-06-26  camera-trap  depth  ... -108.184794   \n",
      "\n",
      "       northing        easting  elevation  utm_zone  \\\n",
      "0  4.321444e+06  743766.479497       None        12   \n",
      "1  4.321444e+06  743766.479497       None        12   \n",
      "2  4.321444e+06  743766.479497       None        12   \n",
      "3  4.321444e+06  743766.479497       None        12   \n",
      "4  4.321444e+06  743766.479497       None        12   \n",
      "\n",
      "                             geom            time version_number  \\\n",
      "0  POINT (743766.479 4321444.155)  12:00:00-06:00           None   \n",
      "1  POINT (743766.479 4321444.155)  11:00:00-06:00           None   \n",
      "2  POINT (743766.479 4321444.155)  12:00:00-06:00           None   \n",
      "3  POINT (743766.479 4321444.155)  11:00:00-06:00           None   \n",
      "4  POINT (743766.479 4321444.155)  12:00:00-06:00           None   \n",
      "\n",
      "         equipment    value  \n",
      "0  camera id = W1B  4.50196  \n",
      "1  camera id = W1B  0.00124  \n",
      "2  camera id = W1B -4.49948  \n",
      "3  camera id = W1B -2.99924  \n",
      "4  camera id = W1B -4.49948  \n",
      "\n",
      "[5 rows x 23 columns]\n"
     ]
    }
   ],
   "source": [
    "import snowexsql.db # import SnowEx SQL library\n",
    "from snowexsql.db import get_db # Import the connection function from the snowexsql library\n",
    "from snowexsql.data import PointData, SiteData # Import the point and table classes \n",
    "from snowexsql.conversions import query_to_geopandas # Import function to convert incoming data from database to geopandas df\n",
    "import geopandas as gpd # Load geopandas library\n",
    "import matplotlib.pyplot as plt # Import matplotlib.pyplot for plotting images and graphs\n",
    "import pandas as pd # Import pandas as to read csv data and visualize tabular data\n",
    "\n",
    "# Connect to the database\n",
    "db_name = 'snow:hackweek@52.32.183.144/snowex'\n",
    "engine, session = get_db(db_name)\n",
    "\n",
    "# Grab all the point data that was that was measured with a camera-trap\n",
    "qry = session.query(PointData)\n",
    "qry = qry.filter(PointData.instrument == 'camera-trap')\n",
    "\n",
    "# Convert it to a geopandas df and visualize the dataframe\n",
    "camera_depths = query_to_geopandas(qry, engine)\n",
    "print(camera_depths.head())"
   ]
  },
  {
   "cell_type": "code",
   "execution_count": 5,
   "id": "nonprofit-spokesman",
   "metadata": {},
   "outputs": [
    {
     "data": {
      "text/html": [
       "<div>\n",
       "<style scoped>\n",
       "    .dataframe tbody tr th:only-of-type {\n",
       "        vertical-align: middle;\n",
       "    }\n",
       "\n",
       "    .dataframe tbody tr th {\n",
       "        vertical-align: top;\n",
       "    }\n",
       "\n",
       "    .dataframe thead th {\n",
       "        text-align: right;\n",
       "    }\n",
       "</style>\n",
       "<table border=\"1\" class=\"dataframe\">\n",
       "  <thead>\n",
       "    <tr style=\"text-align: right;\">\n",
       "      <th></th>\n",
       "      <th>equipment</th>\n",
       "      <th>time</th>\n",
       "      <th>value</th>\n",
       "    </tr>\n",
       "  </thead>\n",
       "  <tbody>\n",
       "    <tr>\n",
       "      <th>0</th>\n",
       "      <td>camera id = W1B</td>\n",
       "      <td>12:00:00-06:00</td>\n",
       "      <td>4.50196</td>\n",
       "    </tr>\n",
       "    <tr>\n",
       "      <th>1</th>\n",
       "      <td>camera id = W1B</td>\n",
       "      <td>11:00:00-06:00</td>\n",
       "      <td>0.00124</td>\n",
       "    </tr>\n",
       "    <tr>\n",
       "      <th>2</th>\n",
       "      <td>camera id = W1B</td>\n",
       "      <td>12:00:00-06:00</td>\n",
       "      <td>-4.49948</td>\n",
       "    </tr>\n",
       "    <tr>\n",
       "      <th>3</th>\n",
       "      <td>camera id = W1B</td>\n",
       "      <td>11:00:00-06:00</td>\n",
       "      <td>-2.99924</td>\n",
       "    </tr>\n",
       "    <tr>\n",
       "      <th>4</th>\n",
       "      <td>camera id = W1B</td>\n",
       "      <td>12:00:00-06:00</td>\n",
       "      <td>-4.49948</td>\n",
       "    </tr>\n",
       "    <tr>\n",
       "      <th>...</th>\n",
       "      <td>...</td>\n",
       "      <td>...</td>\n",
       "      <td>...</td>\n",
       "    </tr>\n",
       "    <tr>\n",
       "      <th>13366</th>\n",
       "      <td>camera id = W1B</td>\n",
       "      <td>12:00:00-06:00</td>\n",
       "      <td>-4.49948</td>\n",
       "    </tr>\n",
       "    <tr>\n",
       "      <th>13367</th>\n",
       "      <td>camera id = W1B</td>\n",
       "      <td>11:00:00-06:00</td>\n",
       "      <td>-2.99924</td>\n",
       "    </tr>\n",
       "    <tr>\n",
       "      <th>13368</th>\n",
       "      <td>camera id = W1B</td>\n",
       "      <td>12:00:00-06:00</td>\n",
       "      <td>-4.49948</td>\n",
       "    </tr>\n",
       "    <tr>\n",
       "      <th>13369</th>\n",
       "      <td>camera id = W1B</td>\n",
       "      <td>11:00:00-06:00</td>\n",
       "      <td>-4.49948</td>\n",
       "    </tr>\n",
       "    <tr>\n",
       "      <th>13370</th>\n",
       "      <td>camera id = W1B</td>\n",
       "      <td>12:00:00-06:00</td>\n",
       "      <td>-5.99972</td>\n",
       "    </tr>\n",
       "  </tbody>\n",
       "</table>\n",
       "<p>13371 rows × 3 columns</p>\n",
       "</div>"
      ],
      "text/plain": [
       "             equipment            time    value\n",
       "0      camera id = W1B  12:00:00-06:00  4.50196\n",
       "1      camera id = W1B  11:00:00-06:00  0.00124\n",
       "2      camera id = W1B  12:00:00-06:00 -4.49948\n",
       "3      camera id = W1B  11:00:00-06:00 -2.99924\n",
       "4      camera id = W1B  12:00:00-06:00 -4.49948\n",
       "...                ...             ...      ...\n",
       "13366  camera id = W1B  12:00:00-06:00 -4.49948\n",
       "13367  camera id = W1B  11:00:00-06:00 -2.99924\n",
       "13368  camera id = W1B  12:00:00-06:00 -4.49948\n",
       "13369  camera id = W1B  11:00:00-06:00 -4.49948\n",
       "13370  camera id = W1B  12:00:00-06:00 -5.99972\n",
       "\n",
       "[13371 rows x 3 columns]"
      ]
     },
     "execution_count": 5,
     "metadata": {},
     "output_type": "execute_result"
    }
   ],
   "source": [
    "# pull out the columns of interest to make it easier to read\n",
    "# Note '-6:00' indicates the UTC time zone. \n",
    "camera_depths[['equipment','time','value']]"
   ]
  },
  {
   "cell_type": "code",
   "execution_count": null,
   "id": "chronic-punch",
   "metadata": {},
   "outputs": [],
   "source": [
    "# Grab all the unique pits geometry objects (locations)\n",
    "qry = session.query(SiteData.geom).distinct()\n",
    "pits = query_to_geopandas(qry, engine)\n",
    "\n",
    "# Print out how many of each that we found\n",
    "print(f'Found {len(camera_depths[\"geom\"].unique())} camera trap locations')\n",
    "print(f'Found {len(pits.index)} pit site locations')\n",
    "\n",
    "# End our database session to avoid hanging transactions\n",
    "session.close()"
   ]
  },
  {
   "cell_type": "markdown",
   "id": "corrected-sperm",
   "metadata": {},
   "source": [
    "#### Step 2: Plot our camera and Pit locations"
   ]
  },
  {
   "cell_type": "code",
   "execution_count": null,
   "id": "stupid-applicant",
   "metadata": {},
   "outputs": [],
   "source": [
    "# plot our pits as triangles\n",
    "ax = pits.plot(marker='^', color='gray', label='Pits')\n",
    "\n",
    "# Plot our cameras as squares\n",
    "ax = camera_depths.plot(ax=ax, color='magenta', marker='s', label='Camera Traps')\n",
    "\n",
    "# Don't use scientific notation on the ticks for utm coords\n",
    "ax.ticklabel_format(style='plain', useOffset=False)\n",
    "ax.set_xlabel('Easting [m]')\n",
    "ax.set_ylabel('Northing [m]')\n",
    "ax.legend()\n",
    "plt.tight_layout()\n",
    "plt.show()"
   ]
  },
  {
   "cell_type": "markdown",
   "id": "speaking-terminal",
   "metadata": {},
   "source": [
    "- What do you notice? Is there overlap between the snow pit and camera trap locations?\n",
    "- How might the two datasets be compared?"
   ]
  },
  {
   "cell_type": "markdown",
   "id": "effective-shanghai",
   "metadata": {},
   "source": [
    "#### Step 3: Grab/Plot the Vegetated and Open Camera sites"
   ]
  },
  {
   "cell_type": "code",
   "execution_count": null,
   "id": "played-letter",
   "metadata": {},
   "outputs": [],
   "source": [
    "# Grab the open site data from the db\n",
    "open_site = 'W1A'\n",
    "veg_site = 'W9A'\n",
    "qry = session.query(PointData).filter(PointData.equipment.contains(open_site))\n",
    "df_open = query_to_geopandas(qry,engine)\n",
    "\n",
    "# Grab the vegetated site from the db\n",
    "qry = session.query(PointData).filter(PointData.equipment.contains(veg_site))\n",
    "df_veg = query_to_geopandas(qry,engine)\n",
    "\n",
    "# Set the date as the index for easy plotting/reading\n",
    "df_open = df_open.set_index('date')\n",
    "df_veg = df_veg.set_index('date')\n",
    "\n",
    "# Plot the 2 datasets by date!\n",
    "ax = df_open['value'].plot(label=f'Open ({open_site})')\n",
    "df_veg['value'].plot(ax=ax, label=f'Vegetated ({veg_site})')\n",
    "\n",
    "# Mess with some labeling to make it look nice\n",
    "ax.legend()\n",
    "ax.set_ylabel('Snow Depth [cm]')\n",
    "plt.tight_layout()\n",
    "plt.show()"
   ]
  },
  {
   "cell_type": "markdown",
   "id": "faced-rouge",
   "metadata": {},
   "source": [
    "- What do you notice about the differences between the open and closed canopy site? \n",
    "- What might be some drawbacks to this method? \n",
    "- What would it look like to map and compare all the closed canopy sites to all the open canopy sites? "
   ]
  },
  {
   "cell_type": "markdown",
   "id": "parental-stevens",
   "metadata": {},
   "source": [
    "## Current and Future Work"
   ]
  },
  {
   "cell_type": "markdown",
   "id": "separate-prince",
   "metadata": {},
   "source": [
    "### Snow Depth\n",
    "\n",
    "Automated methods to extract snow depth using the Hough Transform (Currier et al. 2017) have been used on this (*in progress* Breen et al. 2021). The available automated and manual codes are available on GitHub: https://github.com/catherine-m-breen/Snow-Depth-From-Snow-Stakes. \n",
    "\n",
    "### Other snow properties\n",
    "Camera traps have many more applications for snow. One is using them to improve understanding of snow in trees. Cassie Lumbrazo and the Hydrology Lab at the UW https://www.zooniverse.org/projects/mozerm/snow-spotter have uploaded 1000s of photos in a citizen science project to increase labeling efforts for snow in trees and provide educational opportunities to learn about snow.\n",
    "\n",
    "- How else might you use these images to advance SnowEx and snow hydrology?\n"
   ]
  },
  {
   "cell_type": "markdown",
   "id": "refined-traveler",
   "metadata": {},
   "source": [
    "**Thank you for attending this tutorial! We look forward to see what you will find in these datasets!**\n",
    "\n",
    "*Acknowledgements: Anthony Arendt, Scott Henderson, Carrie Vuyovich, Ryan Currier, Megan Mason, Micah Johhnson*"
   ]
  }
 ],
 "metadata": {
  "kernelspec": {
   "display_name": "Python 3",
   "language": "python",
   "name": "python3"
  },
  "language_info": {
   "codemirror_mode": {
    "name": "ipython",
    "version": 3
   },
   "file_extension": ".py",
   "mimetype": "text/x-python",
   "name": "python",
   "nbconvert_exporter": "python",
   "pygments_lexer": "ipython3",
   "version": "3.8.8"
  }
 },
 "nbformat": 4,
 "nbformat_minor": 5
}
